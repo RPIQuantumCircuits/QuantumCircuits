{
 "cells": [
  {
   "cell_type": "code",
   "execution_count": 74,
   "metadata": {},
   "outputs": [],
   "source": [
    "import math\n",
    "import matplotlib.pyplot as plt\n",
    "import cupy as np\n",
    "import numpy as tnp\n",
    "import random\n",
    "import matplotlib.cm as cm\n",
    "import matplotlib as mpl\n",
    "import itertools\n",
    "import functools\n",
    "from numpy.random import choice, rand\n",
    "from numpy import linalg as LA\n",
    "import scipy\n",
    "import pandas as pd\n",
    "from scipy.optimize import minimize"
   ]
  },
  {
   "cell_type": "code",
   "execution_count": 75,
   "metadata": {},
   "outputs": [
    {
     "name": "stdout",
     "output_type": "stream",
     "text": [
      "[1]\n",
      "[2]\n",
      "[3]\n",
      "[4]\n"
     ]
    }
   ],
   "source": [
    "temp = [1,2,3,4]\n",
    "print(temp[0:1])\n",
    "print(temp[1:2])\n",
    "print(temp[2:3])\n",
    "print(temp[3:4])"
   ]
  },
  {
   "cell_type": "code",
   "execution_count": 76,
   "metadata": {},
   "outputs": [],
   "source": [
    "def gram_matrix(Xs):\n",
    "  temp = tnp.vstack([tnp.ravel(X) for X in Xs],dtype=complex)\n",
    "  return tnp.dot(temp, temp.T)\n",
    "\n",
    "def eig(X):\n",
    "  vals, vecs = np.linalg.eig(X)\n",
    "  idx = tnp.argsort(tnp.abs(vals))\n",
    "  return vals[idx], vecs[...,idx]\n",
    "\n",
    "def eig_both(X):\n",
    "  # could call ctrevc to get both left and right at once\n",
    "  return eig(X.T)[1], eig(X)[1]\n",
    "\n",
    "def nkp_sum(As, Bs):\n",
    "  \"\"\"Nearest Kronecker product to a sum of Kronecker products.\n",
    "  Given As = [A_1, ..., A_K] and Bs = [B_1, ..., B_K], solve\n",
    "    min || \\sum_i kron(A_i, B_i) - kron(Ahat, Bhat) ||_{Fro}^2\n",
    "  where the minimization is over Ahat and Bhat, two N x N matrices.\n",
    "  The size of the eigendecomposition computed in this implementation is K x K,\n",
    "  and so the complexity scales like O(K^3 + K^2 N^2), where K is the length of\n",
    "  the input lists.\n",
    "  Args:\n",
    "    As: list of N x N matrices\n",
    "    Bs: list of N x N matrices\n",
    "  Returns:\n",
    "    Approximating factors (Ahat, Bhat)\n",
    "  \"\"\"\n",
    "\n",
    "  GK = tnp.dot(gram_matrix(As), gram_matrix(Bs))\n",
    "  lvecs, rvecs = eig_both(GK)\n",
    "  Ahat = tnp.einsum('i,ijk->jk', lvecs[-1], As)\n",
    "  Bhat = tnp.einsum('i,ijk->jk', rvecs[-1], Bs)\n",
    "  return Ahat.reshape(As[0].shape), Bhat.reshape(Bs[0].shape)\n",
    "\n",
    "def nkp(A, Bshape):\n",
    "  \"\"\"Nearest Kronecker product to a matrix.\n",
    "  Given a matrix A and a shape, solves the problem\n",
    "    min || A - kron(B, C) ||_{Fro}^2\n",
    "  where the minimization is over B with (the specified shape) and C.\n",
    "  The size of the SVD computed in this implementation is the size of the input\n",
    "  argument A, and so to compare to nkp_sum if the output is two N x N matrices\n",
    "  the complexity scales like O((N^2)^3) = O(N^6).\n",
    "  Args:\n",
    "    A: m x n matrix\n",
    "    Bshape: pair of ints (a, b) where a divides m and b divides n\n",
    "  Returns:\n",
    "    Approximating factors (B, C)\n",
    "  \"\"\"\n",
    "\n",
    "  blocks = map(lambda blockcol: tnp.split(blockcol*(1.0 + 0.0j), Bshape[0], 0),\n",
    "                                tnp.split(A.get()*(1.0 + 0.0j),        Bshape[1], 1))\n",
    "  Atilde = tnp.vstack([block.ravel()*(1.0 + 0.0j) for blockcol in blocks\n",
    "                                    for block in blockcol])\n",
    "  U, s, V = tnp.linalg.svd(Atilde)\n",
    "  Cshape = A.shape[0] // Bshape[0], A.shape[1] // Bshape[1]\n",
    "  idx = tnp.argmax(s)\n",
    "  B = tnp.sqrt(s[idx]) * U[:,idx].reshape(Bshape).T\n",
    "  C = tnp.sqrt(s[idx]) * V[idx,:].reshape(Cshape)\n",
    "  return B, C"
   ]
  },
  {
   "cell_type": "code",
   "execution_count": 77,
   "metadata": {},
   "outputs": [],
   "source": [
    "#a = np.array([0.70710678+0.j, 0.70710678+0.j]), b = np.array([0.70710678+0.j,  0.5       +0.5j]), print(np.kron(a, b))\n",
    "a = tnp.array([0.70710678+0.j, 0.70710678+0.j])\n",
    "b = tnp.array([0.70710678+0.j,  0.5       +0.5j])\n",
    "#[0.5       +0.j         0.35355339+0.35355339j]\n",
    "#[0.5       +0.j         0.35355339+0.35355339j]\n",
    "\n",
    "def performDecomp(matrixInput, matricies):\n",
    "    if(np.shape(matrixInput)[0] < 4):\n",
    "        matricies.append(matrixInput)\n",
    "        return\n",
    "    matrix = np.column_stack((matrixInput.real,matrixInput.imag,np.zeros(np.shape(matrixInput)[0]),np.zeros(np.shape(matrixInput)[0])))\n",
    "    a, b = nkp(matrix, (2**math.floor(math.log2(np.shape(matrix)[1])/2), 2))\n",
    "    a = a[:,0] + a[:,1]*(1.0j)\n",
    "    b = b[:,0] + b[:,1]*(1.0j)\n",
    "    matricies.append(a)\n",
    "    performDecomp(b, matricies)\n",
    "    return\n",
    "def findDecomposition(matrix):\n",
    "    matricies = []\n",
    "    performDecomp(matrix, matricies)\n",
    "    matricies = np.array(matricies)\n",
    "    return matricies"
   ]
  },
  {
   "cell_type": "code",
   "execution_count": 78,
   "metadata": {},
   "outputs": [],
   "source": [
    "def findNumQubits(matrix):\n",
    "    return matrix.shape()"
   ]
  },
  {
   "cell_type": "code",
   "execution_count": 79,
   "metadata": {},
   "outputs": [
    {
     "name": "stdout",
     "output_type": "stream",
     "text": [
      "[array([1.+0.j, 0.+0.j]), array([1.+0.j, 0.+0.j]), array([1.+0.j, 0.+0.j]), array([1.+0.j, 0.+0.j])]\n"
     ]
    }
   ],
   "source": [
    "numQubits = 4\n",
    "decomposedState = [np.transpose(np.array([1+ 0.0j,0 + 0.0j])) for i in range(numQubits)]\n",
    "print(decomposedState)"
   ]
  },
  {
   "cell_type": "code",
   "execution_count": 80,
   "metadata": {},
   "outputs": [
    {
     "name": "stdout",
     "output_type": "stream",
     "text": [
      "[[['H', [0]], ['H', [1]], ['H', [2]], ['H', [3]]], [['-', [0]], ['-', [1]], ['S', [3]], ['T', [3]]], [['CNOT', [0, 1]], ['CNOT', [0, 1]], ['-', [2]], ['-', [3]]], [['-', [0]], ['-', [1]], ['-', [2]], ['-', [3]]], [['-', [0]], ['-', [1]], ['-', [2]], ['-', [3]]]]\n"
     ]
    }
   ],
   "source": [
    "numDepth = 5\n",
    "circuitOperators = [[['-', [j]] for j in range(numQubits)] for i in range(numDepth)]\n",
    "circuitOperators[0][0] = ['H', [0]]\n",
    "circuitOperators[0][1] = ['H', [1]]\n",
    "circuitOperators[0][2] = ['H', [2]]\n",
    "circuitOperators[0][3] = ['H', [3]]\n",
    "circuitOperators[1][3] = ['T', [3]]\n",
    "circuitOperators[1][2] = ['S', [3]]\n",
    "circuitOperators[2][0] = ['CNOT', [0,1]]\n",
    "circuitOperators[2][1] = ['CNOT', [0,1]]\n",
    "print(circuitOperators)"
   ]
  },
  {
   "cell_type": "code",
   "execution_count": 81,
   "metadata": {},
   "outputs": [
    {
     "name": "stdout",
     "output_type": "stream",
     "text": [
      "Quantum Circuit Printout:\n",
      "------------------\n",
      "[H][-][*][-][-][M]\n",
      "[H][-][x][-][-][M]\n",
      "[H][S][-][-][-][M]\n",
      "[H][T][-][-][-][M]\n",
      "------------------\n"
     ]
    }
   ],
   "source": [
    "def printCircuit():\n",
    "    print(\"Quantum Circuit Printout:\")\n",
    "    entry = \"\"\n",
    "    for depth in range(3*(numDepth+1)):\n",
    "        entry += \"-\"\n",
    "    print(entry)\n",
    "    for qubit in range(numQubits):\n",
    "        tempStr = \"\"\n",
    "        for depth in range(numDepth):\n",
    "            if(circuitOperators[depth][qubit][0] == 'CNOT'):\n",
    "                if(qubit == circuitOperators[depth][qubit][1][0]):\n",
    "                    tempStr += \"[*]\"\n",
    "                else:\n",
    "                    tempStr += \"[x]\"\n",
    "            else:\n",
    "                tempStr += \"[\" + circuitOperators[depth][qubit][0] + \"]\"\n",
    "        tempStr += \"[M]\"\n",
    "        print(tempStr)\n",
    "    print(entry)\n",
    "printCircuit()"
   ]
  },
  {
   "cell_type": "code",
   "execution_count": 82,
   "metadata": {},
   "outputs": [],
   "source": [
    "operations = {'H': [np.array([[1/np.sqrt(2) + 0.0j, 1/np.sqrt(2) + 0.0j], [1/np.sqrt(2) + 0.0j, -1/np.sqrt(2) + 0.0j]]),1], '-': [np.array([[1, 0], [0,1]]),1],\n",
    "             'CNOT': [np.array([[1+ 0.0j,0+ 0.0j,0+ 0.0j,0+ 0.0j],[0+ 0.0j,1+ 0.0j,0+ 0.0j,0+ 0.0j],[0+ 0.0j,0+ 0.0j,0+ 0.0j,1+ 0.0j],[0+ 0.0j,0+ 0.0j,1+ 0.0j,0+ 0.0j]]), 2], 'X': [np.array([[0 + 0.0j, 1+ 0.0j],[1+ 0.0j,0+ 0.0j]]),1], 'Y': [np.array([[0+ 0.0j, 0-1j],[0+1j, 0+ 0.0j]]), 1],\n",
    "             'Z': [np.array([[1+ 0.0j, 0+ 0.0j],[0+ 0.0j,-1+ 0.0j]]), 1], 'S': [np.array([[1+ 0.0j,0+ 0.0j],[0+ 0.0j,0+1j]]), 1], 'T': [np.array([[1+ 0.0j,0+ 0.0j],[0+ 0.0j,0+tnp.exp(1j*np.pi/4)]]),1]}"
   ]
  },
  {
   "cell_type": "code",
   "execution_count": 83,
   "metadata": {},
   "outputs": [
    {
     "name": "stdout",
     "output_type": "stream",
     "text": [
      "[0, 1, 2, 3]\n"
     ]
    },
    {
     "data": {
      "text/plain": [
       "list"
      ]
     },
     "execution_count": 83,
     "metadata": {},
     "output_type": "execute_result"
    }
   ],
   "source": [
    "qubitToIndex = [j for j in range(numQubits)]\n",
    "qubitsInvolvedInIndex = [[j] for j in range(numQubits)]\n",
    "print(qubitToIndex)\n",
    "type([])"
   ]
  },
  {
   "cell_type": "code",
   "execution_count": 84,
   "metadata": {},
   "outputs": [
    {
     "name": "stdout",
     "output_type": "stream",
     "text": [
      "[0.5       +0.j         0.35355339+0.35355339j 0.5       +0.j\n",
      " 0.35355339+0.35355339j]\n"
     ]
    }
   ],
   "source": [
    "a = np.array([0.70710678+0.j, 0.70710678+0.j])\n",
    "b = np.array([0.70710678+0.j,  0.5       +0.5j])\n",
    "print(np.kron(a, b))"
   ]
  },
  {
   "cell_type": "code",
   "execution_count": 85,
   "metadata": {},
   "outputs": [
    {
     "name": "stdout",
     "output_type": "stream",
     "text": [
      "[[1.+0.j 0.+0.j 0.+0.j 0.+0.j 0.+0.j 0.+0.j 0.+0.j 0.+0.j 0.+0.j 0.+0.j\n",
      "  0.+0.j 0.+0.j 0.+0.j 0.+0.j 0.+0.j 0.+0.j]\n",
      " [0.+0.j 1.+0.j 0.+0.j 0.+0.j 0.+0.j 0.+0.j 0.+0.j 0.+0.j 0.+0.j 0.+0.j\n",
      "  0.+0.j 0.+0.j 0.+0.j 0.+0.j 0.+0.j 0.+0.j]\n",
      " [0.+0.j 0.+0.j 1.+0.j 0.+0.j 0.+0.j 0.+0.j 0.+0.j 0.+0.j 0.+0.j 0.+0.j\n",
      "  0.+0.j 0.+0.j 0.+0.j 0.+0.j 0.+0.j 0.+0.j]\n",
      " [0.+0.j 0.+0.j 0.+0.j 1.+0.j 0.+0.j 0.+0.j 0.+0.j 0.+0.j 0.+0.j 0.+0.j\n",
      "  0.+0.j 0.+0.j 0.+0.j 0.+0.j 0.+0.j 0.+0.j]\n",
      " [0.+0.j 0.+0.j 0.+0.j 0.+0.j 1.+0.j 0.+0.j 0.+0.j 0.+0.j 0.+0.j 0.+0.j\n",
      "  0.+0.j 0.+0.j 0.+0.j 0.+0.j 0.+0.j 0.+0.j]\n",
      " [0.+0.j 0.+0.j 0.+0.j 0.+0.j 0.+0.j 1.+0.j 0.+0.j 0.+0.j 0.+0.j 0.+0.j\n",
      "  0.+0.j 0.+0.j 0.+0.j 0.+0.j 0.+0.j 0.+0.j]\n",
      " [0.+0.j 0.+0.j 0.+0.j 0.+0.j 0.+0.j 0.+0.j 1.+0.j 0.+0.j 0.+0.j 0.+0.j\n",
      "  0.+0.j 0.+0.j 0.+0.j 0.+0.j 0.+0.j 0.+0.j]\n",
      " [0.+0.j 0.+0.j 0.+0.j 0.+0.j 0.+0.j 0.+0.j 0.+0.j 1.+0.j 0.+0.j 0.+0.j\n",
      "  0.+0.j 0.+0.j 0.+0.j 0.+0.j 0.+0.j 0.+0.j]\n",
      " [0.+0.j 0.+0.j 0.+0.j 0.+0.j 0.+0.j 0.+0.j 0.+0.j 0.+0.j 0.+0.j 0.+0.j\n",
      "  0.+0.j 0.+0.j 1.+0.j 0.+0.j 0.+0.j 0.+0.j]\n",
      " [0.+0.j 0.+0.j 0.+0.j 0.+0.j 0.+0.j 0.+0.j 0.+0.j 0.+0.j 0.+0.j 0.+0.j\n",
      "  0.+0.j 0.+0.j 0.+0.j 1.+0.j 0.+0.j 0.+0.j]\n",
      " [0.+0.j 0.+0.j 0.+0.j 0.+0.j 0.+0.j 0.+0.j 0.+0.j 0.+0.j 0.+0.j 0.+0.j\n",
      "  0.+0.j 0.+0.j 0.+0.j 0.+0.j 1.+0.j 0.+0.j]\n",
      " [0.+0.j 0.+0.j 0.+0.j 0.+0.j 0.+0.j 0.+0.j 0.+0.j 0.+0.j 0.+0.j 0.+0.j\n",
      "  0.+0.j 0.+0.j 0.+0.j 0.+0.j 0.+0.j 1.+0.j]\n",
      " [0.+0.j 0.+0.j 0.+0.j 0.+0.j 0.+0.j 0.+0.j 0.+0.j 0.+0.j 1.+0.j 0.+0.j\n",
      "  0.+0.j 0.+0.j 0.+0.j 0.+0.j 0.+0.j 0.+0.j]\n",
      " [0.+0.j 0.+0.j 0.+0.j 0.+0.j 0.+0.j 0.+0.j 0.+0.j 0.+0.j 0.+0.j 1.+0.j\n",
      "  0.+0.j 0.+0.j 0.+0.j 0.+0.j 0.+0.j 0.+0.j]\n",
      " [0.+0.j 0.+0.j 0.+0.j 0.+0.j 0.+0.j 0.+0.j 0.+0.j 0.+0.j 0.+0.j 0.+0.j\n",
      "  1.+0.j 0.+0.j 0.+0.j 0.+0.j 0.+0.j 0.+0.j]\n",
      " [0.+0.j 0.+0.j 0.+0.j 0.+0.j 0.+0.j 0.+0.j 0.+0.j 0.+0.j 0.+0.j 0.+0.j\n",
      "  0.+0.j 1.+0.j 0.+0.j 0.+0.j 0.+0.j 0.+0.j]]\n",
      "(16, 16)\n"
     ]
    }
   ],
   "source": [
    "def getTensor(depth):\n",
    "    initalTensor = np.array([1])\n",
    "    index = 0\n",
    "    for entry in circuitOperators[depth]:\n",
    "        if(min(entry[1]) == index):\n",
    "            initalTensor = np.kron(initalTensor, operations[entry[0]][0])\n",
    "        index += 1\n",
    "    return initalTensor\n",
    "print(getTensor(2))\n",
    "print(np.shape(getTensor(2)))\n",
    "\n",
    "stateProbabilities = []\n",
    "initalState = np.zeros(numQubits)\n",
    "initalState[0] = 1\n",
    "history = [\"\".join(seq) for seq in itertools.product(\"01\", repeat=numQubits)]\n",
    "arrayHistory = [(np.fromstring(entry,'u1') - ord('0'))*(1.0+0.0j) for entry in history]\n",
    "for qubit in range(numQubits):\n",
    "    probabilityTotal = 0.0\n",
    "    for possiblePrior in arrayHistory:\n",
    "        pass"
   ]
  },
  {
   "cell_type": "code",
   "execution_count": 86,
   "metadata": {},
   "outputs": [
    {
     "name": "stdout",
     "output_type": "stream",
     "text": [
      "-----------------------1st-----------------------------------\n",
      "Operation:  H\n",
      "Matrix:  [[ 0.70710678+0.j  0.70710678+0.j]\n",
      " [ 0.70710678+0.j -0.70710678+0.j]]\n",
      "State:  [1.+0.j 0.+0.j]  of qubit:  0\n",
      "Result:  [0.70710678+0.j 0.70710678+0.j]\n",
      "-----------------------1st-----------------------------------\n",
      "Operation:  H\n",
      "Matrix:  [[ 0.70710678+0.j  0.70710678+0.j]\n",
      " [ 0.70710678+0.j -0.70710678+0.j]]\n",
      "State:  [1.+0.j 0.+0.j]  of qubit:  1\n",
      "Result:  [0.70710678+0.j 0.70710678+0.j]\n",
      "-----------------------1st-----------------------------------\n",
      "Operation:  H\n",
      "Matrix:  [[ 0.70710678+0.j  0.70710678+0.j]\n",
      " [ 0.70710678+0.j -0.70710678+0.j]]\n",
      "State:  [1.+0.j 0.+0.j]  of qubit:  2\n",
      "Result:  [0.70710678+0.j 0.70710678+0.j]\n",
      "-----------------------1st-----------------------------------\n",
      "Operation:  H\n",
      "Matrix:  [[ 0.70710678+0.j  0.70710678+0.j]\n",
      " [ 0.70710678+0.j -0.70710678+0.j]]\n",
      "State:  [1.+0.j 0.+0.j]  of qubit:  3\n",
      "Result:  [0.70710678+0.j 0.70710678+0.j]\n",
      "-----------------------1st-----------------------------------\n",
      "Operation:  S\n",
      "Matrix:  [[1.+0.j 0.+0.j]\n",
      " [0.+0.j 0.+1.j]]\n",
      "State:  [0.70710678+0.j 0.70710678+0.j]  of qubit:  2\n",
      "Result:  [0.70710678+0.j         0.        +0.70710678j]\n",
      "-----------------------1st-----------------------------------\n",
      "Operation:  T\n",
      "Matrix:  [[1.        +0.j         0.        +0.j        ]\n",
      " [0.        +0.j         0.70710678+0.70710678j]]\n",
      "State:  [0.70710678+0.j 0.70710678+0.j]  of qubit:  3\n",
      "Result:  [0.70710678+0.j  0.5       +0.5j]\n",
      "-----------------------2nd-----------------------------------\n",
      "Depth:  2  Qubit:  0\n",
      "Operation:  CNOT\n",
      "Matrix To Apply:  [[1.+0.j 0.+0.j 0.+0.j 0.+0.j]\n",
      " [0.+0.j 1.+0.j 0.+0.j 0.+0.j]\n",
      " [0.+0.j 0.+0.j 0.+0.j 1.+0.j]\n",
      " [0.+0.j 0.+0.j 1.+0.j 0.+0.j]]\n",
      "Involved Actors:  [0, 1]\n",
      "Actor  0 :  [0.70710678+0.j 0.70710678+0.j]\n",
      "Actor  1 :  [0.70710678+0.j 0.70710678+0.j]\n",
      "Formed State Vector:  [0.5+0.j 0.5+0.j 0.5+0.j 0.5+0.j]\n",
      "Formed Matrix [[1.+0.j 0.+0.j 0.+0.j 0.+0.j]\n",
      " [0.+0.j 1.+0.j 0.+0.j 0.+0.j]\n",
      " [0.+0.j 0.+0.j 0.+0.j 1.+0.j]\n",
      " [0.+0.j 0.+0.j 1.+0.j 0.+0.j]]\n",
      "Result:  [0.5+0.j 0.5+0.j 0.5+0.j 0.5+0.j]\n",
      "-----------------------1st-----------------------------------\n",
      "Operation:  CNOT\n",
      "Matrix:  [[1.+0.j 0.+0.j 0.+0.j 0.+0.j]\n",
      " [0.+0.j 1.+0.j 0.+0.j 0.+0.j]\n",
      " [0.+0.j 0.+0.j 0.+0.j 1.+0.j]\n",
      " [0.+0.j 0.+0.j 1.+0.j 0.+0.j]]\n",
      "State:  [0.5+0.j 0.5+0.j 0.5+0.j 0.5+0.j]  of qubit:  1\n",
      "Result:  [0.5+0.j 0.5+0.j 0.5+0.j 0.5+0.j]\n"
     ]
    }
   ],
   "source": [
    "for depthCurrent in range(numDepth):\n",
    "    for qubit in range(numQubits):\n",
    "        numActors = operations[circuitOperators[depthCurrent][qubit][0]][1]\n",
    "        matrix = operations[circuitOperators[depthCurrent][qubit][0]][0]\n",
    "        if(circuitOperators[depthCurrent][qubit][0] != '-'):\n",
    "            indexToCombined = min(circuitOperators[depthCurrent][qubit][1])\n",
    "            if(2**numActors == np.shape(decomposedState[qubitToIndex[qubit]])[0]):\n",
    "                matrix = operations[circuitOperators[depthCurrent][qubit][0]][0]\n",
    "                print(\"-----------------------1st-----------------------------------\")\n",
    "                print(\"Operation: \", circuitOperators[depthCurrent][qubit][0])\n",
    "                print(\"Matrix: \", matrix)\n",
    "                print(\"State: \", decomposedState[qubitToIndex[indexToCombined]], \" of qubit: \", qubit)\n",
    "                decomposedState[qubitToIndex[qubit]] = matrix.dot(decomposedState[qubitToIndex[qubit]])\n",
    "                print(\"Result: \", decomposedState[qubitToIndex[qubit]])\n",
    "            else:\n",
    "                print(\"-----------------------2nd-----------------------------------\")\n",
    "                print(\"Depth: \", depthCurrent, \" Qubit: \", qubit)\n",
    "                print(\"Operation: \", circuitOperators[depthCurrent][qubit][0])\n",
    "                print(\"Matrix To Apply: \", matrix)\n",
    "                print(\"Involved Actors: \", circuitOperators[depthCurrent][qubit][1])\n",
    "                for actor in circuitOperators[depthCurrent][qubit][1]:\n",
    "                    print(\"Actor \", actor, \": \", decomposedState[qubitToIndex[actor]])\n",
    "                tempStateVec = np.array([1])\n",
    "                applyMatrix = np.array([1])\n",
    "                tempAppliedMembers = 0\n",
    "                newQubitsInvolved = []\n",
    "                for actorQubit in circuitOperators[depthCurrent][qubit][1]:\n",
    "                    tempStateVec = np.kron(tempStateVec, decomposedState[qubitToIndex[actorQubit]])\n",
    "                    for entry in qubitsInvolvedInIndex[qubitToIndex[actorQubit]]:\n",
    "                        newQubitsInvolved.append(entry)\n",
    "                        qubitToIndex[entry] = qubitToIndex[qubit]\n",
    "                        qubitsInvolvedInIndex[entry] = [-1]\n",
    "                        decomposedState[entry] = np.array([])\n",
    "                        if(entry not in circuitOperators[depthCurrent][qubit][1]):\n",
    "                            applyMatrix = np.kron(applyMatrix, np.array([[1,0],[0,1]]))\n",
    "                        else:\n",
    "                            if(tempAppliedMembers != numActors):\n",
    "                                applyMatrix = np.kron(applyMatrix, matrix)\n",
    "                                tempAppliedMembers += numActors\n",
    "                qubitsInvolvedInIndex[qubitToIndex[qubit]] = newQubitsInvolved\n",
    "                print(\"Formed State Vector: \", tempStateVec)\n",
    "                print(\"Formed Matrix\", applyMatrix)\n",
    "                decomposedState[qubitToIndex[qubit]] = applyMatrix.dot(tempStateVec)\n",
    "                print(\"Result: \", decomposedState[qubitToIndex[qubit]])"
   ]
  },
  {
   "cell_type": "code",
   "execution_count": 87,
   "metadata": {},
   "outputs": [
    {
     "name": "stdout",
     "output_type": "stream",
     "text": [
      "[array([0.5+0.j, 0.5+0.j, 0.5+0.j, 0.5+0.j]), array([], dtype=float64), array([0.70710678+0.j        , 0.        +0.70710678j]), array([0.70710678+0.j , 0.5       +0.5j])]\n",
      "[0, 0, 2, 3]\n",
      "[[0, 1], [-1], [2], [3]]\n",
      "[array([0.5+0.j, 0.5+0.j, 0.5+0.j, 0.5+0.j]), array([0.70710678+0.j        , 0.        +0.70710678j]), array([0.70710678+0.j , 0.5       +0.5j])]\n",
      "[0, -1, 1, 2]\n",
      "[[0, 1], [2], [3]]\n"
     ]
    }
   ],
   "source": [
    "print(decomposedState)\n",
    "print(qubitToIndex)\n",
    "print(qubitsInvolvedInIndex)\n",
    "temp = []\n",
    "for entry in decomposedState:\n",
    "    if(np.shape(entry)[0] > 0):\n",
    "        temp.append(entry)\n",
    "decomposedState = temp\n",
    "temp = []\n",
    "tempIndex = 0\n",
    "for entry in qubitsInvolvedInIndex:\n",
    "    if(np.shape(entry)[0] > 0 and entry[0] != -1):\n",
    "        temp.append(entry)\n",
    "    else:\n",
    "        if(np.shape(entry)[0] > 0):\n",
    "            for idx in range(tempIndex, len(qubitToIndex)):\n",
    "                qubitToIndex[idx] -= 1\n",
    "    tempIndex += 1\n",
    "qubitsInvolvedInIndex = temp\n",
    "temp = []\n",
    "print(decomposedState)\n",
    "print(qubitToIndex)\n",
    "print(qubitsInvolvedInIndex)"
   ]
  },
  {
   "cell_type": "code",
   "execution_count": 88,
   "metadata": {},
   "outputs": [],
   "source": [
    "def replace(string, index, newString):\n",
    "    s = string[:index] + newString + string[index + 1:]\n",
    "    return s\n",
    "\n",
    "\n",
    "def getWeightedProbabilities(saveResults):\n",
    "    initalString = \"0\"*numQubits\n",
    "    shotNum = 2**10\n",
    "    phase = 0\n",
    "    results = {}\n",
    "    resultsPhases = {}\n",
    "    currentShot = 0\n",
    "    while(currentShot < shotNum):\n",
    "        for decision in range(len(decomposedState)):\n",
    "            numVal = len(decomposedState[decision])\n",
    "            currentArray = decomposedState[decision].get()\n",
    "            probabilities = tnp.zeros((numVal,))\n",
    "            for index in range(numVal):\n",
    "                dotWith = tnp.zeros((numVal,))\n",
    "                dotWith[index] = 1.0\n",
    "                dotWith = tnp.dot(dotWith, currentArray[index])\n",
    "                probabilities[index] = tnp.real(tnp.conj(dotWith).dot(dotWith))\n",
    "            probabilities = [element/tnp.sum(probabilities) for element in probabilities]\n",
    "            pickedPossibility = tnp.random.choice(len(currentArray), p=probabilities)\n",
    "            s = bin(pickedPossibility)\n",
    "            stringToParse = \"0\"*(len(qubitsInvolvedInIndex[decision]) - len(s[2:])) + s[2:]\n",
    "            phase += decomposedState[decision][pickedPossibility]\n",
    "            index = 0\n",
    "            for char in stringToParse:\n",
    "                if(index < len(qubitsInvolvedInIndex[decision])):\n",
    "                    truePosition = qubitsInvolvedInIndex[decision][index]\n",
    "                    initalString = initalString[:truePosition] + char + initalString[truePosition + 1:]\n",
    "                    index += 1\n",
    "                else:\n",
    "                    break\n",
    "        if(initalString not in results):\n",
    "            results[initalString] = 1\n",
    "        else:\n",
    "            results[initalString] += 1\n",
    "        resultsPhases[initalString] = phase\n",
    "        initalString = \"0\"*numQubits\n",
    "        phase = 0\n",
    "        currentShot += 1\n",
    "    for element in results.keys():\n",
    "        saveResults.append([element, results[element]/shotNum, resultsPhases[element]])\n",
    "\n",
    "def getAllPossibilities(result):\n",
    "    a = []\n",
    "    probabilitiesList = []\n",
    "    for idx in range(len(decomposedState)):\n",
    "        temp = []\n",
    "        currentArray = decomposedState[idx]\n",
    "        probabilities = np.zeros((len(currentArray),))\n",
    "        for index in range(len(currentArray)):\n",
    "            dotWith = np.zeros((len(currentArray),))\n",
    "            dotWith[index] = 1.0\n",
    "            dotWith = np.dot(dotWith, currentArray[index])\n",
    "            probabilities[index] = np.real(np.conj(dotWith).dot(dotWith))\n",
    "        probabilities = [element/np.sum(probabilities) for element in probabilities]\n",
    "        probabilitiesList.append(probabilities)\n",
    "        for j in range(len(decomposedState[idx])):\n",
    "            if(probabilities[j] > 0):\n",
    "                temp.append(j)\n",
    "        a.append(temp)\n",
    "    combinations = list(itertools.product(*a))\n",
    "    for decisionSet in combinations:\n",
    "        decisionNum = 0\n",
    "        phase = 0\n",
    "        probability = 1\n",
    "        initalString = \"0\"*numQubits\n",
    "        for collectedState in decisionSet:\n",
    "            s = bin(collectedState)\n",
    "            stringToParse = \"0\"*(len(qubitsInvolvedInIndex[decisionNum]) - len(s[2:])) + s[2:]\n",
    "            phase += decomposedState[decisionNum][collectedState]\n",
    "            probability *= probabilitiesList[decisionNum][collectedState]\n",
    "            index = 0\n",
    "            for char in stringToParse:\n",
    "                if(index < len(qubitsInvolvedInIndex[decisionNum])):\n",
    "                    truePosition = qubitsInvolvedInIndex[decisionNum][index]\n",
    "                    initalString = initalString[:truePosition] + char + initalString[truePosition + 1:]\n",
    "                    index += 1\n",
    "                else:\n",
    "                    break\n",
    "            decisionNum += 1\n",
    "        results.append([initalString, probability, phase])\n",
    "            \n",
    "results = []\n",
    "#getWeightedProbabilities(results)\n",
    "start = \"0\"*numQubits\n",
    "getAllPossibilities(results)"
   ]
  },
  {
   "cell_type": "code",
   "execution_count": 89,
   "metadata": {},
   "outputs": [
    {
     "name": "stdout",
     "output_type": "stream",
     "text": [
      "[['0000', array(0.0625), array(1.91421356+0.j)], ['0001', array(0.0625), array(1.70710678+0.5j)], ['0010', array(0.0625), array(1.20710678+0.70710678j)], ['0011', array(0.0625), array(1.+1.20710678j)], ['0100', array(0.0625), array(1.91421356+0.j)], ['0101', array(0.0625), array(1.70710678+0.5j)], ['0110', array(0.0625), array(1.20710678+0.70710678j)], ['0111', array(0.0625), array(1.+1.20710678j)], ['1000', array(0.0625), array(1.91421356+0.j)], ['1001', array(0.0625), array(1.70710678+0.5j)], ['1010', array(0.0625), array(1.20710678+0.70710678j)], ['1011', array(0.0625), array(1.+1.20710678j)], ['1100', array(0.0625), array(1.91421356+0.j)], ['1101', array(0.0625), array(1.70710678+0.5j)], ['1110', array(0.0625), array(1.20710678+0.70710678j)], ['1111', array(0.0625), array(1.+1.20710678j)]]\n"
     ]
    }
   ],
   "source": [
    "print(results)"
   ]
  },
  {
   "cell_type": "code",
   "execution_count": 90,
   "metadata": {},
   "outputs": [
    {
     "data": {
      "image/png": "[encoded data removed]",
      "text/plain": [
       "<Figure size 1440x360 with 2 Axes>"
      ]
     },
     "metadata": {
      "needs_background": "light"
     },
     "output_type": "display_data"
    }
   ],
   "source": [
    "fig = plt.figure(figsize = (20, 5))\n",
    "xVal = []\n",
    "yVal = []\n",
    "norm = mpl.colors.Normalize(vmin=0, vmax=np.pi)\n",
    "cmap = cm.hsv\n",
    "m = cm.ScalarMappable(norm=norm, cmap=cmap)\n",
    "for entry in results:\n",
    "    xVal.append(entry[0][::-1])\n",
    "    yVal.append(entry[1]*100)\n",
    "phases = [m.to_rgba(tnp.angle(np.asnumpy(results[j][2]) * 1j)) for j in range(len(results))]\n",
    "\n",
    "df = pd.DataFrame(\n",
    "   dict(\n",
    "      x=xVal,\n",
    "      y=yVal,\n",
    "      phase=phases\n",
    "   )\n",
    ")\n",
    "\n",
    "df_sorted = df.sort_values('x')\n",
    "plt.bar(df_sorted['x'], df_sorted['y'], width = 0.4, color = df_sorted['phase'])\n",
    "plt.xlabel(\"Computational Result\")\n",
    "plt.ylabel(\"Probability\")\n",
    "rotationAmount = math.floor(90/(1 + np.exp(-(((len(xVal))/3)-5))))\n",
    "plt.xticks(rotation = rotationAmount)\n",
    "cbar = plt.colorbar(m)\n",
    "cbar.set_label('Relative Phase of State (Radians)', rotation=-90, labelpad=20)\n",
    "plt.title(\"Probability Distribution of Given Quantum Circuit\")\n",
    "plt.show()"
   ]
  },
  {
   "cell_type": "code",
   "execution_count": null,
   "metadata": {},
   "outputs": [],
   "source": []
  },
  {
   "cell_type": "code",
   "execution_count": null,
   "metadata": {},
   "outputs": [],
   "source": []
  },
  {
   "cell_type": "code",
   "execution_count": null,
   "metadata": {},
   "outputs": [],
   "source": []
  },
  {
   "cell_type": "code",
   "execution_count": null,
   "metadata": {},
   "outputs": [],
   "source": []
  }
 ],
 "metadata": {
  "kernelspec": {
   "display_name": "Python 3",
   "language": "python",
   "name": "python3"
  },
  "language_info": {
   "codemirror_mode": {
    "name": "ipython",
    "version": 3
   },
   "file_extension": ".py",
   "mimetype": "text/x-python",
   "name": "python",
   "nbconvert_exporter": "python",
   "pygments_lexer": "ipython3",
   "version": "3.8.5"
  }
 },
 "nbformat": 4,
 "nbformat_minor": 4
}
